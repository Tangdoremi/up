{
 "cells": [
  {
   "cell_type": "code",
   "execution_count": 2,
   "metadata": {},
   "outputs": [
    {
     "name": "stdout",
     "output_type": "stream",
     "text": [
      "MIV is equal to 1004\n"
     ]
    }
   ],
   "source": [
    "class Solution:\n",
    "    def romanToInt(self, s: str) -> int:\n",
    "        dic = {\"I\":1, \"V\":5, \"X\":10, \"L\":50, \"C\":100, \"D\":500, \"M\":1000, \\\n",
    "              \"IV\":4, \"IX\":9, \"XL\":40, \"XC\":90, \"CD\":400, \"CM\":900}\n",
    "        a = 0\n",
    "        i = 1\n",
    "        while i < len(s):\n",
    "            \n",
    "            if dic[s[len(s)-i]] > dic[s[len(s)-i-1]]:\n",
    "                a = a + dic[s[len(s)-i-1]+s[len(s)-i]]\n",
    "                i = i + 2\n",
    "            else:\n",
    "                a = a + dic[s[len(s)-i]]\n",
    "                i = i + 1\n",
    "                \n",
    "        if i == len(s): \n",
    "            a = a + dic[s[len(s)-i]] \n",
    "            \n",
    "        return a\n",
    "    \n",
    "ex = Solution()\n",
    "s = \"MIV\"\n",
    "print(f\"{s} is equal to {ex.romanToInt(s)}\")"
   ]
  },
  {
   "cell_type": "code",
   "execution_count": 9,
   "metadata": {},
   "outputs": [
    {
     "name": "stdout",
     "output_type": "stream",
     "text": [
      "MIV is equal to 1004\n"
     ]
    }
   ],
   "source": [
    "class Solution:\n",
    "    def romanToInt(self, s: str) -> int:\n",
    "        dic = {\"I\":1, \"V\":5, \"X\":10, \"L\":50, \"C\":100, \"D\":500, \"M\":1000, \\\n",
    "              \"IV\":4, \"IX\":9, \"XL\":40, \"XC\":90, \"CD\":400, \"CM\":900}\n",
    "\n",
    "        num = [0]*len(s)            #list的初始化！添加元素 append，删除元素 del，重复 *， 组合 +， 长度 len， 判断元素是否在其中 in\n",
    "                                    #以及其他许多函数（min，max等）和方法（reverse，count，sort等）\n",
    "        for i in range(len(s)-1):\n",
    "            if dic[s[i]] < dic[s[i+1]]:\n",
    "\n",
    "                num[i] = -dic[s[i]]\n",
    "            else:\n",
    "\n",
    "                num[i] = dic[s[i]]\n",
    "            \n",
    "        num[len(s)-1] = dic[s[len(s)-1]]\n",
    "        \n",
    "        return sum(num)\n",
    "    \n",
    "ex = Solution()\n",
    "s = \"MIV\"\n",
    "print(f\"{s} is equal to {ex.romanToInt(s)}\")"
   ]
  },
  {
   "cell_type": "code",
   "execution_count": null,
   "metadata": {},
   "outputs": [],
   "source": []
  }
 ],
 "metadata": {
  "kernelspec": {
   "display_name": "Python 3",
   "language": "python",
   "name": "python3"
  },
  "language_info": {
   "codemirror_mode": {
    "name": "ipython",
    "version": 3
   },
   "file_extension": ".py",
   "mimetype": "text/x-python",
   "name": "python",
   "nbconvert_exporter": "python",
   "pygments_lexer": "ipython3",
   "version": "3.7.0"
  }
 },
 "nbformat": 4,
 "nbformat_minor": 2
}
