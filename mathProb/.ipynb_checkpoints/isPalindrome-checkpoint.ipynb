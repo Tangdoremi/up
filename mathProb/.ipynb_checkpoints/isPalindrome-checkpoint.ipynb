{
 "cells": [
  {
   "cell_type": "code",
   "execution_count": 20,
   "metadata": {},
   "outputs": [
    {
     "name": "stdout",
     "output_type": "stream",
     "text": [
      "1221 is a True palindrome\n"
     ]
    }
   ],
   "source": [
    "class Solution:\n",
    "    def isPalindrome(self, x):\n",
    "        if x >= 0:\n",
    "            leng = len(str(x))\n",
    "            for i in range(leng):\n",
    "                num1 = x%(10**(i+1))//(10**i)\n",
    "                num2 = x%(10**(leng-i))//(10**(leng-i-1))\n",
    "                if num1 != num2:\n",
    "                    return False\n",
    "            \n",
    "            return True            \n",
    "        else:\n",
    "            return False\n",
    "\n",
    "sol = Solution()\n",
    "a=1221\n",
    "boolv=sol.isPalindrome(a)\n",
    "print(f\"{a} is a {boolv} palindrome\")"
   ]
  },
  {
   "cell_type": "code",
   "execution_count": null,
   "metadata": {},
   "outputs": [],
   "source": []
  },
  {
   "cell_type": "code",
   "execution_count": null,
   "metadata": {},
   "outputs": [],
   "source": []
  }
 ],
 "metadata": {
  "kernelspec": {
   "display_name": "Python 3",
   "language": "python",
   "name": "python3"
  },
  "language_info": {
   "codemirror_mode": {
    "name": "ipython",
    "version": 3
   },
   "file_extension": ".py",
   "mimetype": "text/x-python",
   "name": "python",
   "nbconvert_exporter": "python",
   "pygments_lexer": "ipython3",
   "version": "3.7.0"
  }
 },
 "nbformat": 4,
 "nbformat_minor": 2
}
